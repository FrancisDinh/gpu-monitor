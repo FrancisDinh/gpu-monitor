{
 "cells": [
  {
   "cell_type": "code",
   "execution_count": 1,
   "metadata": {},
   "outputs": [],
   "source": [
    "import platform\n",
    "from subprocess import Popen, PIPE\n",
    "import json"
   ]
  },
  {
   "cell_type": "code",
   "execution_count": null,
   "metadata": {},
   "outputs": [],
   "source": [
    "732 022 578\n",
    "izj2bwxd"
   ]
  },
  {
   "cell_type": "code",
   "execution_count": 6,
   "metadata": {},
   "outputs": [],
   "source": [
    "required_fields = [\"index\",\"name\",\"utilization.gpu\",\"memory.total\",\\\n",
    "    \"memory.used\",\"temperature.gpu\"]\n",
    "def getGPUs():\n",
    "    if platform.system() == \"Windows\":\n",
    "        nvidia_smi = spawn.find_executable('nvidia-smi')\n",
    "        if nvidia_smi is None:\n",
    "            nvidia_smi = \"%s\\\\Program Files\\\\NVIDIA Corporation\\\\NVSMI\\\\nvidia-smi.exe\" % os.environ['systemdrive']\n",
    "    else:\n",
    "        nvidia_smi = \"nvidia-smi\"\n",
    "\t\n",
    "    try:\n",
    "        p = Popen([nvidia_smi,\"--query-gpu={}\".format(\",\".join(required_fields)), \\\n",
    "            \"--format=csv,noheader,nounits\"], stdout=PIPE)\n",
    "        stdout, stderror = p.communicate()\n",
    "    except Exception as ex:\n",
    "        print(ex)\n",
    "    if p.returncode !=0:\n",
    "        ### alert\n",
    "        print(stderror)\n",
    "    return stdout.decode(\"utf-8\")\n"
   ]
  },
  {
   "cell_type": "code",
   "execution_count": 7,
   "metadata": {},
   "outputs": [
    {
     "data": {
      "text/plain": [
       "('0, NVIDIA GeForce GTX 970, 4, 4096, 556, 45\\n', 0)"
      ]
     },
     "execution_count": 7,
     "metadata": {},
     "output_type": "execute_result"
    }
   ],
   "source": [
    "getGPUs()"
   ]
  },
  {
   "cell_type": "code",
   "execution_count": 76,
   "metadata": {},
   "outputs": [],
   "source": [
    "def parse_stdout(stdout):\n",
    "    lines = stdout.split(os.linesep)\n",
    "    gpus = dict()\n",
    "    for line in lines:\n",
    "        if line:\n",
    "            values = line.strip().split(', ')\n",
    "            index = int(values[0])\n",
    "            gpus[index] = {\n",
    "                \"index\": index,\n",
    "                \"name\": values[1],\n",
    "                \"utilization_gpu\": int(values[2]),\n",
    "                \"total_memory\": int(values[2]),\n",
    "                \"used_memory\": int(values[3]),\n",
    "                \"temperature\": int(values[4])\n",
    "            }\n",
    "    return gpus"
   ]
  },
  {
   "cell_type": "code",
   "execution_count": null,
   "metadata": {},
   "outputs": [],
   "source": [
    "st"
   ]
  },
  {
   "cell_type": "code",
   "execution_count": 80,
   "metadata": {},
   "outputs": [],
   "source": [
    "class GPU:\n",
    "    def __init__(self, ID, uuid, load, memoryTotal, memoryUsed, memoryFree, driver, gpu_name, serial, display_mode, display_active, temp_gpu):\n",
    "        self.id = ID\n",
    "        self.name = gpu_name\n",
    "        self.memoryUtil = float(memoryUsed)/float(memoryTotal)\n",
    "        self.memoryTotal = memoryTotal\n",
    "        self.memoryUsed = memoryUsed\n",
    "        self.memoryFree = memoryFree\n",
    "        self.temperature = temp_gpu\n",
    "    \n",
    "    def set_fan(speed):\n",
    "        cmd = \"nvidia-settings -a [gpu:{}]/GPUFanControlState=1 -a [fan:0]/GPUTargetFanSpeed={}\"\n",
    "        p = Popen(cmd.format(self.id, speed).split(), stdout=PIPE)\n",
    "        stdout, stderror = p.communicate()\n",
    "        if std\n",
    " \n",
    "\n",
    "    def set_ram():\n",
    "        pass\n",
    "\n",
    "\n",
    "    def set_oc():\n",
    "        pass\n",
    "\n",
    "\n",
    "    def to_dict():\n",
    "        pass"
   ]
  },
  {
   "cell_type": "code",
   "execution_count": 78,
   "metadata": {},
   "outputs": [],
   "source": [
    "def send_message():\n",
    "    pass "
   ]
  },
  {
   "cell_type": "code",
   "execution_count": null,
   "metadata": {},
   "outputs": [],
   "source": []
  }
 ],
 "metadata": {
  "kernelspec": {
   "display_name": "Python 3.9.7 ('testenv')",
   "language": "python",
   "name": "python3"
  },
  "language_info": {
   "codemirror_mode": {
    "name": "ipython",
    "version": 3
   },
   "file_extension": ".py",
   "mimetype": "text/x-python",
   "name": "python",
   "nbconvert_exporter": "python",
   "pygments_lexer": "ipython3",
   "version": "3.9.7"
  },
  "orig_nbformat": 4,
  "vscode": {
   "interpreter": {
    "hash": "68f7b81e400d530501e727a5c973c346edf4b55b5a1a85836262005662c367fa"
   }
  }
 },
 "nbformat": 4,
 "nbformat_minor": 2
}
